{
  "nbformat": 4,
  "nbformat_minor": 0,
  "metadata": {
    "colab": {
      "name": "ufc.ipynb",
      "provenance": [],
      "include_colab_link": true
    },
    "kernelspec": {
      "name": "python3",
      "display_name": "Python 3"
    }
  },
  "cells": [
    {
      "cell_type": "markdown",
      "metadata": {
        "id": "view-in-github",
        "colab_type": "text"
      },
      "source": [
        "<a href=\"https://colab.research.google.com/github/nickwan/ufc_data/blob/master/ufc.ipynb\" target=\"_parent\"><img src=\"https://colab.research.google.com/assets/colab-badge.svg\" alt=\"Open In Colab\"/></a>"
      ]
    },
    {
      "cell_type": "code",
      "metadata": {
        "id": "vcLfzAc8Y5kh",
        "colab_type": "code",
        "colab": {}
      },
      "source": [
        "!pip install adjustText\n",
        "!pip install shap"
      ],
      "execution_count": 0,
      "outputs": []
    },
    {
      "cell_type": "code",
      "metadata": {
        "id": "lX_tLywjZQVt",
        "colab_type": "code",
        "colab": {}
      },
      "source": [
        "import requests\n",
        "import json\n",
        "import datetime\n",
        "import pandas as pd\n",
        "import numpy as np \n",
        "import matplotlib.pyplot as plt \n",
        "import seaborn as sns \n",
        "from sklearn.cluster import KMeans\n",
        "import warnings\n",
        "import shap\n",
        "from sklearn.linear_model import LogisticRegression\n",
        "from sklearn.ensemble import RandomForestClassifier\n",
        "from sklearn.metrics import log_loss, accuracy_score\n",
        "\n",
        "from IPython.display import display, HTML\n",
        "from adjustText import adjust_text\n",
        "from tqdm import tqdm_notebook"
      ],
      "execution_count": 0,
      "outputs": []
    },
    {
      "cell_type": "code",
      "metadata": {
        "id": "kzdgau-Sr8xm",
        "colab_type": "code",
        "colab": {
          "base_uri": "https://localhost:8080/",
          "height": 126
        },
        "outputId": "4c833c6e-5d4f-415f-9949-d784c012b905"
      },
      "source": [
        "fighter_details = pd.read_csv('raw_fighter_details.csv')\n",
        "fighter_details['DOB'].sample(5)\n",
        "# height = fighter_details['Height'].str.replace('\"',\"\").str.split(r\"\"\"'\"\"\",expand=True)\n",
        "# fighter_details['Height_cms'] = height[1].astype(float).div(12).add(height[0].astype(float)).mul(30.48)\n",
        "# fighter_details['Reach_cms'] = fighter_details['Reach'].str.replace('\"','').astype(float).mul(2.54)"
      ],
      "execution_count": 21,
      "outputs": [
        {
          "output_type": "execute_result",
          "data": {
            "text/plain": [
              "105     May 05, 1976\n",
              "2551    Oct 20, 1979\n",
              "155     Oct 22, 1991\n",
              "2649    Nov 20, 1958\n",
              "2876    Aug 18, 1980\n",
              "Name: DOB, dtype: object"
            ]
          },
          "metadata": {
            "tags": []
          },
          "execution_count": 21
        }
      ]
    },
    {
      "cell_type": "code",
      "metadata": {
        "id": "fXtRPxnksYi-",
        "colab_type": "code",
        "colab": {}
      },
      "source": [
        "fighters = pd.read_csv('data.csv')\n",
        "fighters = fighters.loc[:,['R_fighter', 'B_fighter','R_wins', \n",
        "                           'R_Height_cms', 'R_Reach_cms', 'R_Weight_lbs', \n",
        "                           'R_age','B_age', 'B_wins','B_Height_cms', \n",
        "                           'B_Reach_cms', 'B_Weight_lbs']].drop_duplicates()\n",
        "\n",
        "\n",
        "# r_cols=['R_fighter','R_wins', 'R_Stance', 'R_Height_cms', \n",
        "#         'R_Reach_cms', 'R_Weight_lbs', 'R_age']\n",
        "# b_cols=['B_fighter','B_wins', 'B_Stance', 'B_Height_cms', \n",
        "#         'B_Reach_cms', 'B_Weight_lbs', 'B_age']\n",
        "\n",
        "# fighters = (fighters\n",
        "#  .loc[:,r_cols]\n",
        "#  .groupby(r_cols,as_index=False)\n",
        "#  .first()\n",
        "#  .reset_index(drop=True)\n",
        "#  .rename(columns={k:v[2:] for k,v in zip(r_cols,r_cols)})\n",
        "#  .append(fighters\n",
        "#          .loc[:,b_cols]\n",
        "#          .groupby(b_cols,as_index=False)\n",
        "#          .first()\n",
        "#          .reset_index(drop=True)\n",
        "#          .rename(columns={k:v[2:] for k,v in zip(b_cols,b_cols)}),\n",
        "#          ignore_index=True)).drop_duplicates()"
      ],
      "execution_count": 0,
      "outputs": []
    },
    {
      "cell_type": "code",
      "metadata": {
        "id": "7jovFemooX9y",
        "colab_type": "code",
        "outputId": "aca62bb0-06e9-475d-a9fa-d928e7fc8347",
        "colab": {
          "base_uri": "https://localhost:8080/",
          "height": 35
        }
      },
      "source": [
        "df = pd.read_csv('preprocessed_data.csv')\n",
        "df.shape"
      ],
      "execution_count": 6,
      "outputs": [
        {
          "output_type": "execute_result",
          "data": {
            "text/plain": [
              "(3592, 160)"
            ]
          },
          "metadata": {
            "tags": []
          },
          "execution_count": 6
        }
      ]
    },
    {
      "cell_type": "code",
      "metadata": {
        "id": "2bc1xqSQp08e",
        "colab_type": "code",
        "outputId": "6a9a3bec-7819-4448-fda0-d6e3a8cd8d6e",
        "colab": {
          "base_uri": "https://localhost:8080/",
          "height": 1000
        }
      },
      "source": [
        "df.columns.values"
      ],
      "execution_count": 7,
      "outputs": [
        {
          "output_type": "execute_result",
          "data": {
            "text/plain": [
              "array(['Winner', 'title_bout', 'no_of_rounds', 'B_current_lose_streak',\n",
              "       'B_current_win_streak', 'B_draw', 'B_avg_BODY_att',\n",
              "       'B_avg_BODY_landed', 'B_avg_CLINCH_att', 'B_avg_CLINCH_landed',\n",
              "       'B_avg_DISTANCE_att', 'B_avg_DISTANCE_landed', 'B_avg_GROUND_att',\n",
              "       'B_avg_GROUND_landed', 'B_avg_HEAD_att', 'B_avg_HEAD_landed',\n",
              "       'B_avg_KD', 'B_avg_LEG_att', 'B_avg_LEG_landed', 'B_avg_PASS',\n",
              "       'B_avg_REV', 'B_avg_SIG_STR_att', 'B_avg_SIG_STR_landed',\n",
              "       'B_avg_SIG_STR_pct', 'B_avg_SUB_ATT', 'B_avg_TD_att',\n",
              "       'B_avg_TD_landed', 'B_avg_TD_pct', 'B_avg_TOTAL_STR_att',\n",
              "       'B_avg_TOTAL_STR_landed', 'B_longest_win_streak', 'B_losses',\n",
              "       'B_avg_opp_BODY_att', 'B_avg_opp_BODY_landed',\n",
              "       'B_avg_opp_CLINCH_att', 'B_avg_opp_CLINCH_landed',\n",
              "       'B_avg_opp_DISTANCE_att', 'B_avg_opp_DISTANCE_landed',\n",
              "       'B_avg_opp_GROUND_att', 'B_avg_opp_GROUND_landed',\n",
              "       'B_avg_opp_HEAD_att', 'B_avg_opp_HEAD_landed', 'B_avg_opp_KD',\n",
              "       'B_avg_opp_LEG_att', 'B_avg_opp_LEG_landed', 'B_avg_opp_PASS',\n",
              "       'B_avg_opp_REV', 'B_avg_opp_SIG_STR_att',\n",
              "       'B_avg_opp_SIG_STR_landed', 'B_avg_opp_SIG_STR_pct',\n",
              "       'B_avg_opp_SUB_ATT', 'B_avg_opp_TD_att', 'B_avg_opp_TD_landed',\n",
              "       'B_avg_opp_TD_pct', 'B_avg_opp_TOTAL_STR_att',\n",
              "       'B_avg_opp_TOTAL_STR_landed', 'B_total_rounds_fought',\n",
              "       'B_total_time_fought(seconds)', 'B_total_title_bouts',\n",
              "       'B_win_by_Decision_Majority', 'B_win_by_Decision_Split',\n",
              "       'B_win_by_Decision_Unanimous', 'B_win_by_KO/TKO',\n",
              "       'B_win_by_Submission', 'B_win_by_TKO_Doctor_Stoppage', 'B_wins',\n",
              "       'B_Height_cms', 'B_Reach_cms', 'B_Weight_lbs',\n",
              "       'R_current_lose_streak', 'R_current_win_streak', 'R_draw',\n",
              "       'R_avg_BODY_att', 'R_avg_BODY_landed', 'R_avg_CLINCH_att',\n",
              "       'R_avg_CLINCH_landed', 'R_avg_DISTANCE_att',\n",
              "       'R_avg_DISTANCE_landed', 'R_avg_GROUND_att', 'R_avg_GROUND_landed',\n",
              "       'R_avg_HEAD_att', 'R_avg_HEAD_landed', 'R_avg_KD', 'R_avg_LEG_att',\n",
              "       'R_avg_LEG_landed', 'R_avg_PASS', 'R_avg_REV', 'R_avg_SIG_STR_att',\n",
              "       'R_avg_SIG_STR_landed', 'R_avg_SIG_STR_pct', 'R_avg_SUB_ATT',\n",
              "       'R_avg_TD_att', 'R_avg_TD_landed', 'R_avg_TD_pct',\n",
              "       'R_avg_TOTAL_STR_att', 'R_avg_TOTAL_STR_landed',\n",
              "       'R_longest_win_streak', 'R_losses', 'R_avg_opp_BODY_att',\n",
              "       'R_avg_opp_BODY_landed', 'R_avg_opp_CLINCH_att',\n",
              "       'R_avg_opp_CLINCH_landed', 'R_avg_opp_DISTANCE_att',\n",
              "       'R_avg_opp_DISTANCE_landed', 'R_avg_opp_GROUND_att',\n",
              "       'R_avg_opp_GROUND_landed', 'R_avg_opp_HEAD_att',\n",
              "       'R_avg_opp_HEAD_landed', 'R_avg_opp_KD', 'R_avg_opp_LEG_att',\n",
              "       'R_avg_opp_LEG_landed', 'R_avg_opp_PASS', 'R_avg_opp_REV',\n",
              "       'R_avg_opp_SIG_STR_att', 'R_avg_opp_SIG_STR_landed',\n",
              "       'R_avg_opp_SIG_STR_pct', 'R_avg_opp_SUB_ATT', 'R_avg_opp_TD_att',\n",
              "       'R_avg_opp_TD_landed', 'R_avg_opp_TD_pct',\n",
              "       'R_avg_opp_TOTAL_STR_att', 'R_avg_opp_TOTAL_STR_landed',\n",
              "       'R_total_rounds_fought', 'R_total_time_fought(seconds)',\n",
              "       'R_total_title_bouts', 'R_win_by_Decision_Majority',\n",
              "       'R_win_by_Decision_Split', 'R_win_by_Decision_Unanimous',\n",
              "       'R_win_by_KO/TKO', 'R_win_by_Submission',\n",
              "       'R_win_by_TKO_Doctor_Stoppage', 'R_wins', 'R_Height_cms',\n",
              "       'R_Reach_cms', 'R_Weight_lbs', 'B_age', 'R_age',\n",
              "       'weight_class_Bantamweight', 'weight_class_Catch Weight',\n",
              "       'weight_class_Featherweight', 'weight_class_Flyweight',\n",
              "       'weight_class_Heavyweight', 'weight_class_Light Heavyweight',\n",
              "       'weight_class_Lightweight', 'weight_class_Middleweight',\n",
              "       'weight_class_Open Weight', 'weight_class_Welterweight',\n",
              "       \"weight_class_Women's Bantamweight\",\n",
              "       \"weight_class_Women's Featherweight\",\n",
              "       \"weight_class_Women's Flyweight\",\n",
              "       \"weight_class_Women's Strawweight\", 'B_Stance_Open Stance',\n",
              "       'B_Stance_Orthodox', 'B_Stance_Sideways', 'B_Stance_Southpaw',\n",
              "       'B_Stance_Switch', 'R_Stance_Open Stance', 'R_Stance_Orthodox',\n",
              "       'R_Stance_Southpaw', 'R_Stance_Switch'], dtype=object)"
            ]
          },
          "metadata": {
            "tags": []
          },
          "execution_count": 7
        }
      ]
    },
    {
      "cell_type": "code",
      "metadata": {
        "id": "1b8W3v0L0FQA",
        "colab_type": "code",
        "outputId": "95735732-eccd-487f-e6f8-3a95a2b5461f",
        "colab": {
          "base_uri": "https://localhost:8080/",
          "height": 35
        }
      },
      "source": [
        "df.shape"
      ],
      "execution_count": 8,
      "outputs": [
        {
          "output_type": "execute_result",
          "data": {
            "text/plain": [
              "(3592, 160)"
            ]
          },
          "metadata": {
            "tags": []
          },
          "execution_count": 8
        }
      ]
    },
    {
      "cell_type": "code",
      "metadata": {
        "id": "5OqFKucErZIw",
        "colab_type": "code",
        "outputId": "ee444d6f-36e1-4ba1-c0b4-6e93cfe727de",
        "colab": {
          "base_uri": "https://localhost:8080/",
          "height": 35
        }
      },
      "source": [
        "# join_cols = ['wins','Height_cms', 'Reach_cms','Weight_lbs', 'age']\n",
        "data = df.merge(fighters,how='outer',indicator=True)\n",
        "data.shape"
      ],
      "execution_count": 9,
      "outputs": [
        {
          "output_type": "execute_result",
          "data": {
            "text/plain": [
              "(5433, 163)"
            ]
          },
          "metadata": {
            "tags": []
          },
          "execution_count": 9
        }
      ]
    },
    {
      "cell_type": "code",
      "metadata": {
        "id": "Ta5F_A198DxK",
        "colab_type": "code",
        "outputId": "3519afda-f37d-48eb-9c47-8ecd3176fc70",
        "colab": {
          "base_uri": "https://localhost:8080/",
          "height": 90
        }
      },
      "source": [
        "data['_merge'].value_counts()"
      ],
      "execution_count": 10,
      "outputs": [
        {
          "output_type": "execute_result",
          "data": {
            "text/plain": [
              "both          3302\n",
              "right_only    1841\n",
              "left_only      290\n",
              "Name: _merge, dtype: int64"
            ]
          },
          "metadata": {
            "tags": []
          },
          "execution_count": 10
        }
      ]
    },
    {
      "cell_type": "code",
      "metadata": {
        "id": "yr0Zy0Z30fYO",
        "colab_type": "code",
        "colab": {
          "base_uri": "https://localhost:8080/",
          "height": 181
        },
        "outputId": "32bf6b4e-4ca7-4f01-c103-cfe667f8e29e"
      },
      "source": [
        "data['red_wins'].describe()"
      ],
      "execution_count": 22,
      "outputs": [
        {
          "output_type": "execute_result",
          "data": {
            "text/plain": [
              "count    3302.000000\n",
              "mean        0.635978\n",
              "std         0.481228\n",
              "min         0.000000\n",
              "25%         0.000000\n",
              "50%         1.000000\n",
              "75%         1.000000\n",
              "max         1.000000\n",
              "Name: red_wins, dtype: float64"
            ]
          },
          "metadata": {
            "tags": []
          },
          "execution_count": 22
        }
      ]
    },
    {
      "cell_type": "code",
      "metadata": {
        "id": "GSPdl8If58N4",
        "colab_type": "code",
        "outputId": "bbe7cc0f-3826-471e-d7ee-abb63bfb7069",
        "colab": {
          "base_uri": "https://localhost:8080/",
          "height": 35
        }
      },
      "source": [
        "data = data.loc[data['_merge']=='both'].reset_index(drop=True)\n",
        "data['red_wins'] = data['Winner'].replace(['Red','Blue'], [1,0])"
      ],
      "execution_count": 24,
      "outputs": [
        {
          "output_type": "execute_result",
          "data": {
            "text/plain": [
              "((1785, 164), (315, 164))"
            ]
          },
          "metadata": {
            "tags": []
          },
          "execution_count": 24
        }
      ]
    },
    {
      "cell_type": "code",
      "metadata": {
        "id": "4HwtdC_p3wyz",
        "colab_type": "code",
        "colab": {}
      },
      "source": [
        "data2 = data.copy()\n",
        "data2['red_wins'] = data2['red_wins'].replace([0,1],[1,0])\n",
        "r2b = {x:f'B_{x[2:]}' for x in data2.columns.values if 'R_' in x[:2]}\n",
        "b2r = {x:f'R_{x[2:]}' for x in data2.columns.values if 'B_' in x[:2]}\n",
        "new_col_names = {**r2b,**b2r}\n",
        "data2 = data2.rename(columns=new_col_names)"
      ],
      "execution_count": 0,
      "outputs": []
    },
    {
      "cell_type": "code",
      "metadata": {
        "id": "ZzguHZpu7MVn",
        "colab_type": "code",
        "colab": {
          "base_uri": "https://localhost:8080/",
          "height": 162
        },
        "outputId": "5b5f80d6-553d-4703-ab74-186e12620128"
      },
      "source": [
        "data.loc[[2619]]"
      ],
      "execution_count": 51,
      "outputs": [
        {
          "output_type": "execute_result",
          "data": {
            "text/html": [
              "<div>\n",
              "<style scoped>\n",
              "    .dataframe tbody tr th:only-of-type {\n",
              "        vertical-align: middle;\n",
              "    }\n",
              "\n",
              "    .dataframe tbody tr th {\n",
              "        vertical-align: top;\n",
              "    }\n",
              "\n",
              "    .dataframe thead th {\n",
              "        text-align: right;\n",
              "    }\n",
              "</style>\n",
              "<table border=\"1\" class=\"dataframe\">\n",
              "  <thead>\n",
              "    <tr style=\"text-align: right;\">\n",
              "      <th></th>\n",
              "      <th>Winner</th>\n",
              "      <th>title_bout</th>\n",
              "      <th>no_of_rounds</th>\n",
              "      <th>B_current_lose_streak</th>\n",
              "      <th>B_current_win_streak</th>\n",
              "      <th>B_draw</th>\n",
              "      <th>B_avg_BODY_att</th>\n",
              "      <th>B_avg_BODY_landed</th>\n",
              "      <th>B_avg_CLINCH_att</th>\n",
              "      <th>B_avg_CLINCH_landed</th>\n",
              "      <th>B_avg_DISTANCE_att</th>\n",
              "      <th>B_avg_DISTANCE_landed</th>\n",
              "      <th>B_avg_GROUND_att</th>\n",
              "      <th>B_avg_GROUND_landed</th>\n",
              "      <th>B_avg_HEAD_att</th>\n",
              "      <th>B_avg_HEAD_landed</th>\n",
              "      <th>B_avg_KD</th>\n",
              "      <th>B_avg_LEG_att</th>\n",
              "      <th>B_avg_LEG_landed</th>\n",
              "      <th>B_avg_PASS</th>\n",
              "      <th>B_avg_REV</th>\n",
              "      <th>B_avg_SIG_STR_att</th>\n",
              "      <th>B_avg_SIG_STR_landed</th>\n",
              "      <th>B_avg_SIG_STR_pct</th>\n",
              "      <th>B_avg_SUB_ATT</th>\n",
              "      <th>B_avg_TD_att</th>\n",
              "      <th>B_avg_TD_landed</th>\n",
              "      <th>B_avg_TD_pct</th>\n",
              "      <th>B_avg_TOTAL_STR_att</th>\n",
              "      <th>B_avg_TOTAL_STR_landed</th>\n",
              "      <th>B_longest_win_streak</th>\n",
              "      <th>B_losses</th>\n",
              "      <th>B_avg_opp_BODY_att</th>\n",
              "      <th>B_avg_opp_BODY_landed</th>\n",
              "      <th>B_avg_opp_CLINCH_att</th>\n",
              "      <th>B_avg_opp_CLINCH_landed</th>\n",
              "      <th>B_avg_opp_DISTANCE_att</th>\n",
              "      <th>B_avg_opp_DISTANCE_landed</th>\n",
              "      <th>B_avg_opp_GROUND_att</th>\n",
              "      <th>B_avg_opp_GROUND_landed</th>\n",
              "      <th>...</th>\n",
              "      <th>R_total_title_bouts</th>\n",
              "      <th>R_win_by_Decision_Majority</th>\n",
              "      <th>R_win_by_Decision_Split</th>\n",
              "      <th>R_win_by_Decision_Unanimous</th>\n",
              "      <th>R_win_by_KO/TKO</th>\n",
              "      <th>R_win_by_Submission</th>\n",
              "      <th>R_win_by_TKO_Doctor_Stoppage</th>\n",
              "      <th>R_wins</th>\n",
              "      <th>R_Height_cms</th>\n",
              "      <th>R_Reach_cms</th>\n",
              "      <th>R_Weight_lbs</th>\n",
              "      <th>B_age</th>\n",
              "      <th>R_age</th>\n",
              "      <th>weight_class_Bantamweight</th>\n",
              "      <th>weight_class_Catch Weight</th>\n",
              "      <th>weight_class_Featherweight</th>\n",
              "      <th>weight_class_Flyweight</th>\n",
              "      <th>weight_class_Heavyweight</th>\n",
              "      <th>weight_class_Light Heavyweight</th>\n",
              "      <th>weight_class_Lightweight</th>\n",
              "      <th>weight_class_Middleweight</th>\n",
              "      <th>weight_class_Open Weight</th>\n",
              "      <th>weight_class_Welterweight</th>\n",
              "      <th>weight_class_Women's Bantamweight</th>\n",
              "      <th>weight_class_Women's Featherweight</th>\n",
              "      <th>weight_class_Women's Flyweight</th>\n",
              "      <th>weight_class_Women's Strawweight</th>\n",
              "      <th>B_Stance_Open Stance</th>\n",
              "      <th>B_Stance_Orthodox</th>\n",
              "      <th>B_Stance_Sideways</th>\n",
              "      <th>B_Stance_Southpaw</th>\n",
              "      <th>B_Stance_Switch</th>\n",
              "      <th>R_Stance_Open Stance</th>\n",
              "      <th>R_Stance_Orthodox</th>\n",
              "      <th>R_Stance_Southpaw</th>\n",
              "      <th>R_Stance_Switch</th>\n",
              "      <th>R_fighter</th>\n",
              "      <th>B_fighter</th>\n",
              "      <th>_merge</th>\n",
              "      <th>red_wins</th>\n",
              "    </tr>\n",
              "  </thead>\n",
              "  <tbody>\n",
              "    <tr>\n",
              "      <th>2619</th>\n",
              "      <td>Blue</td>\n",
              "      <td>False</td>\n",
              "      <td>3.0</td>\n",
              "      <td>0.0</td>\n",
              "      <td>3.0</td>\n",
              "      <td>0.0</td>\n",
              "      <td>3.0</td>\n",
              "      <td>0.75</td>\n",
              "      <td>10.75</td>\n",
              "      <td>6.0</td>\n",
              "      <td>60.0</td>\n",
              "      <td>16.0</td>\n",
              "      <td>3.0</td>\n",
              "      <td>3.0</td>\n",
              "      <td>70.75</td>\n",
              "      <td>24.25</td>\n",
              "      <td>0.75</td>\n",
              "      <td>0.0</td>\n",
              "      <td>0.0</td>\n",
              "      <td>0.0</td>\n",
              "      <td>0.0</td>\n",
              "      <td>73.75</td>\n",
              "      <td>25.0</td>\n",
              "      <td>0.5075</td>\n",
              "      <td>0.0</td>\n",
              "      <td>0.25</td>\n",
              "      <td>0.0</td>\n",
              "      <td>0.0</td>\n",
              "      <td>76.75</td>\n",
              "      <td>28.0</td>\n",
              "      <td>3.0</td>\n",
              "      <td>1.0</td>\n",
              "      <td>1.25</td>\n",
              "      <td>1.0</td>\n",
              "      <td>2.25</td>\n",
              "      <td>1.0</td>\n",
              "      <td>36.25</td>\n",
              "      <td>10.75</td>\n",
              "      <td>0.5</td>\n",
              "      <td>0.25</td>\n",
              "      <td>...</td>\n",
              "      <td>0.0</td>\n",
              "      <td>0.0</td>\n",
              "      <td>0.0</td>\n",
              "      <td>0.0</td>\n",
              "      <td>2.0</td>\n",
              "      <td>1.0</td>\n",
              "      <td>1.0</td>\n",
              "      <td>4.0</td>\n",
              "      <td>187.96</td>\n",
              "      <td>185.42</td>\n",
              "      <td>230.0</td>\n",
              "      <td>28.0</td>\n",
              "      <td>36.0</td>\n",
              "      <td>0.0</td>\n",
              "      <td>0.0</td>\n",
              "      <td>0.0</td>\n",
              "      <td>0.0</td>\n",
              "      <td>1.0</td>\n",
              "      <td>0.0</td>\n",
              "      <td>0.0</td>\n",
              "      <td>0.0</td>\n",
              "      <td>0.0</td>\n",
              "      <td>0.0</td>\n",
              "      <td>0.0</td>\n",
              "      <td>0.0</td>\n",
              "      <td>0.0</td>\n",
              "      <td>0.0</td>\n",
              "      <td>0.0</td>\n",
              "      <td>1.0</td>\n",
              "      <td>0.0</td>\n",
              "      <td>0.0</td>\n",
              "      <td>0.0</td>\n",
              "      <td>0.0</td>\n",
              "      <td>0.0</td>\n",
              "      <td>1.0</td>\n",
              "      <td>0.0</td>\n",
              "      <td>Mirko Cro Cop</td>\n",
              "      <td>Brendan Schaub</td>\n",
              "      <td>both</td>\n",
              "      <td>0</td>\n",
              "    </tr>\n",
              "  </tbody>\n",
              "</table>\n",
              "<p>1 rows × 164 columns</p>\n",
              "</div>"
            ],
            "text/plain": [
              "     Winner title_bout  no_of_rounds  ...       B_fighter  _merge  red_wins\n",
              "2619   Blue      False           3.0  ...  Brendan Schaub    both         0\n",
              "\n",
              "[1 rows x 164 columns]"
            ]
          },
          "metadata": {
            "tags": []
          },
          "execution_count": 51
        }
      ]
    },
    {
      "cell_type": "code",
      "metadata": {
        "id": "NrYGhCNd44_h",
        "colab_type": "code",
        "colab": {
          "base_uri": "https://localhost:8080/",
          "height": 162
        },
        "outputId": "72ba0ec1-9988-48af-b826-f28cf07dd5d3"
      },
      "source": [
        "data2.loc[[2619]]"
      ],
      "execution_count": 52,
      "outputs": [
        {
          "output_type": "execute_result",
          "data": {
            "text/html": [
              "<div>\n",
              "<style scoped>\n",
              "    .dataframe tbody tr th:only-of-type {\n",
              "        vertical-align: middle;\n",
              "    }\n",
              "\n",
              "    .dataframe tbody tr th {\n",
              "        vertical-align: top;\n",
              "    }\n",
              "\n",
              "    .dataframe thead th {\n",
              "        text-align: right;\n",
              "    }\n",
              "</style>\n",
              "<table border=\"1\" class=\"dataframe\">\n",
              "  <thead>\n",
              "    <tr style=\"text-align: right;\">\n",
              "      <th></th>\n",
              "      <th>Winner</th>\n",
              "      <th>title_bout</th>\n",
              "      <th>no_of_rounds</th>\n",
              "      <th>R_current_lose_streak</th>\n",
              "      <th>R_current_win_streak</th>\n",
              "      <th>R_draw</th>\n",
              "      <th>R_avg_BODY_att</th>\n",
              "      <th>R_avg_BODY_landed</th>\n",
              "      <th>R_avg_CLINCH_att</th>\n",
              "      <th>R_avg_CLINCH_landed</th>\n",
              "      <th>R_avg_DISTANCE_att</th>\n",
              "      <th>R_avg_DISTANCE_landed</th>\n",
              "      <th>R_avg_GROUND_att</th>\n",
              "      <th>R_avg_GROUND_landed</th>\n",
              "      <th>R_avg_HEAD_att</th>\n",
              "      <th>R_avg_HEAD_landed</th>\n",
              "      <th>R_avg_KD</th>\n",
              "      <th>R_avg_LEG_att</th>\n",
              "      <th>R_avg_LEG_landed</th>\n",
              "      <th>R_avg_PASS</th>\n",
              "      <th>R_avg_REV</th>\n",
              "      <th>R_avg_SIG_STR_att</th>\n",
              "      <th>R_avg_SIG_STR_landed</th>\n",
              "      <th>R_avg_SIG_STR_pct</th>\n",
              "      <th>R_avg_SUB_ATT</th>\n",
              "      <th>R_avg_TD_att</th>\n",
              "      <th>R_avg_TD_landed</th>\n",
              "      <th>R_avg_TD_pct</th>\n",
              "      <th>R_avg_TOTAL_STR_att</th>\n",
              "      <th>R_avg_TOTAL_STR_landed</th>\n",
              "      <th>R_longest_win_streak</th>\n",
              "      <th>R_losses</th>\n",
              "      <th>R_avg_opp_BODY_att</th>\n",
              "      <th>R_avg_opp_BODY_landed</th>\n",
              "      <th>R_avg_opp_CLINCH_att</th>\n",
              "      <th>R_avg_opp_CLINCH_landed</th>\n",
              "      <th>R_avg_opp_DISTANCE_att</th>\n",
              "      <th>R_avg_opp_DISTANCE_landed</th>\n",
              "      <th>R_avg_opp_GROUND_att</th>\n",
              "      <th>R_avg_opp_GROUND_landed</th>\n",
              "      <th>...</th>\n",
              "      <th>B_total_title_bouts</th>\n",
              "      <th>B_win_by_Decision_Majority</th>\n",
              "      <th>B_win_by_Decision_Split</th>\n",
              "      <th>B_win_by_Decision_Unanimous</th>\n",
              "      <th>B_win_by_KO/TKO</th>\n",
              "      <th>B_win_by_Submission</th>\n",
              "      <th>B_win_by_TKO_Doctor_Stoppage</th>\n",
              "      <th>B_wins</th>\n",
              "      <th>B_Height_cms</th>\n",
              "      <th>B_Reach_cms</th>\n",
              "      <th>B_Weight_lbs</th>\n",
              "      <th>R_age</th>\n",
              "      <th>B_age</th>\n",
              "      <th>weight_class_Bantamweight</th>\n",
              "      <th>weight_class_Catch Weight</th>\n",
              "      <th>weight_class_Featherweight</th>\n",
              "      <th>weight_class_Flyweight</th>\n",
              "      <th>weight_class_Heavyweight</th>\n",
              "      <th>weight_class_Light Heavyweight</th>\n",
              "      <th>weight_class_Lightweight</th>\n",
              "      <th>weight_class_Middleweight</th>\n",
              "      <th>weight_class_Open Weight</th>\n",
              "      <th>weight_class_Welterweight</th>\n",
              "      <th>weight_class_Women's Bantamweight</th>\n",
              "      <th>weight_class_Women's Featherweight</th>\n",
              "      <th>weight_class_Women's Flyweight</th>\n",
              "      <th>weight_class_Women's Strawweight</th>\n",
              "      <th>R_Stance_Open Stance</th>\n",
              "      <th>R_Stance_Orthodox</th>\n",
              "      <th>R_Stance_Sideways</th>\n",
              "      <th>R_Stance_Southpaw</th>\n",
              "      <th>R_Stance_Switch</th>\n",
              "      <th>B_Stance_Open Stance</th>\n",
              "      <th>B_Stance_Orthodox</th>\n",
              "      <th>B_Stance_Southpaw</th>\n",
              "      <th>B_Stance_Switch</th>\n",
              "      <th>B_fighter</th>\n",
              "      <th>R_fighter</th>\n",
              "      <th>_merge</th>\n",
              "      <th>red_wins</th>\n",
              "    </tr>\n",
              "  </thead>\n",
              "  <tbody>\n",
              "    <tr>\n",
              "      <th>2619</th>\n",
              "      <td>Blue</td>\n",
              "      <td>False</td>\n",
              "      <td>3.0</td>\n",
              "      <td>0.0</td>\n",
              "      <td>3.0</td>\n",
              "      <td>0.0</td>\n",
              "      <td>3.0</td>\n",
              "      <td>0.75</td>\n",
              "      <td>10.75</td>\n",
              "      <td>6.0</td>\n",
              "      <td>60.0</td>\n",
              "      <td>16.0</td>\n",
              "      <td>3.0</td>\n",
              "      <td>3.0</td>\n",
              "      <td>70.75</td>\n",
              "      <td>24.25</td>\n",
              "      <td>0.75</td>\n",
              "      <td>0.0</td>\n",
              "      <td>0.0</td>\n",
              "      <td>0.0</td>\n",
              "      <td>0.0</td>\n",
              "      <td>73.75</td>\n",
              "      <td>25.0</td>\n",
              "      <td>0.5075</td>\n",
              "      <td>0.0</td>\n",
              "      <td>0.25</td>\n",
              "      <td>0.0</td>\n",
              "      <td>0.0</td>\n",
              "      <td>76.75</td>\n",
              "      <td>28.0</td>\n",
              "      <td>3.0</td>\n",
              "      <td>1.0</td>\n",
              "      <td>1.25</td>\n",
              "      <td>1.0</td>\n",
              "      <td>2.25</td>\n",
              "      <td>1.0</td>\n",
              "      <td>36.25</td>\n",
              "      <td>10.75</td>\n",
              "      <td>0.5</td>\n",
              "      <td>0.25</td>\n",
              "      <td>...</td>\n",
              "      <td>0.0</td>\n",
              "      <td>0.0</td>\n",
              "      <td>0.0</td>\n",
              "      <td>0.0</td>\n",
              "      <td>2.0</td>\n",
              "      <td>1.0</td>\n",
              "      <td>1.0</td>\n",
              "      <td>4.0</td>\n",
              "      <td>187.96</td>\n",
              "      <td>185.42</td>\n",
              "      <td>230.0</td>\n",
              "      <td>28.0</td>\n",
              "      <td>36.0</td>\n",
              "      <td>0.0</td>\n",
              "      <td>0.0</td>\n",
              "      <td>0.0</td>\n",
              "      <td>0.0</td>\n",
              "      <td>1.0</td>\n",
              "      <td>0.0</td>\n",
              "      <td>0.0</td>\n",
              "      <td>0.0</td>\n",
              "      <td>0.0</td>\n",
              "      <td>0.0</td>\n",
              "      <td>0.0</td>\n",
              "      <td>0.0</td>\n",
              "      <td>0.0</td>\n",
              "      <td>0.0</td>\n",
              "      <td>0.0</td>\n",
              "      <td>1.0</td>\n",
              "      <td>0.0</td>\n",
              "      <td>0.0</td>\n",
              "      <td>0.0</td>\n",
              "      <td>0.0</td>\n",
              "      <td>0.0</td>\n",
              "      <td>1.0</td>\n",
              "      <td>0.0</td>\n",
              "      <td>Mirko Cro Cop</td>\n",
              "      <td>Brendan Schaub</td>\n",
              "      <td>both</td>\n",
              "      <td>1</td>\n",
              "    </tr>\n",
              "  </tbody>\n",
              "</table>\n",
              "<p>1 rows × 164 columns</p>\n",
              "</div>"
            ],
            "text/plain": [
              "     Winner title_bout  no_of_rounds  ...       R_fighter  _merge  red_wins\n",
              "2619   Blue      False           3.0  ...  Brendan Schaub    both         1\n",
              "\n",
              "[1 rows x 164 columns]"
            ]
          },
          "metadata": {
            "tags": []
          },
          "execution_count": 52
        }
      ]
    },
    {
      "cell_type": "code",
      "metadata": {
        "id": "KnVYgtEH7n8r",
        "colab_type": "code",
        "colab": {
          "base_uri": "https://localhost:8080/",
          "height": 183
        },
        "outputId": "4472e8a6-97bf-480e-f0cb-038b7d9bd33b"
      },
      "source": [
        "balanced_data = data.append(data2,ignore_index=True)"
      ],
      "execution_count": 53,
      "outputs": [
        {
          "output_type": "stream",
          "text": [
            "/usr/local/lib/python3.6/dist-packages/pandas/core/frame.py:6692: FutureWarning: Sorting because non-concatenation axis is not aligned. A future version\n",
            "of pandas will change to not sort by default.\n",
            "\n",
            "To accept the future behavior, pass 'sort=False'.\n",
            "\n",
            "To retain the current behavior and silence the warning, pass 'sort=True'.\n",
            "\n",
            "  sort=sort)\n"
          ],
          "name": "stderr"
        }
      ]
    },
    {
      "cell_type": "code",
      "metadata": {
        "id": "LWJsGoKq3_GB",
        "colab_type": "code",
        "colab": {
          "base_uri": "https://localhost:8080/",
          "height": 35
        },
        "outputId": "e197441d-e1b7-4733-95a7-4e0a609c1c27"
      },
      "source": [
        "test_data = balanced_data.sample(frac=.15)\n",
        "train_data = balanced_data.loc[(~balanced_data.index.isin(test_data.index.values))]\n",
        "train_data.shape, test_data.shape"
      ],
      "execution_count": 54,
      "outputs": [
        {
          "output_type": "execute_result",
          "data": {
            "text/plain": [
              "((5613, 165), (991, 165))"
            ]
          },
          "metadata": {
            "tags": []
          },
          "execution_count": 54
        }
      ]
    },
    {
      "cell_type": "code",
      "metadata": {
        "id": "tQvq_HaHARRo",
        "colab_type": "code",
        "colab": {}
      },
      "source": [
        "red_feats = [x for x in balanced_data.columns.values if '_avg' in x]\n",
        "target = 'red_wins'"
      ],
      "execution_count": 0,
      "outputs": []
    },
    {
      "cell_type": "code",
      "metadata": {
        "id": "6fK2_sFOCMbK",
        "colab_type": "code",
        "colab": {}
      },
      "source": [
        "rf = RandomForestClassifier(n_estimators=1000)"
      ],
      "execution_count": 0,
      "outputs": []
    },
    {
      "cell_type": "code",
      "metadata": {
        "id": "TzRGNhJ6-iD3",
        "colab_type": "code",
        "outputId": "5d74c6fd-0c54-4738-9e16-a10eca217e02",
        "colab": {
          "base_uri": "https://localhost:8080/",
          "height": 145
        }
      },
      "source": [
        "rf.fit(train_data.loc[:,red_feats],train_data[target])"
      ],
      "execution_count": 85,
      "outputs": [
        {
          "output_type": "execute_result",
          "data": {
            "text/plain": [
              "RandomForestClassifier(bootstrap=True, class_weight=None, criterion='gini',\n",
              "                       max_depth=None, max_features='auto', max_leaf_nodes=None,\n",
              "                       min_impurity_decrease=0.0, min_impurity_split=None,\n",
              "                       min_samples_leaf=1, min_samples_split=2,\n",
              "                       min_weight_fraction_leaf=0.0, n_estimators=1000,\n",
              "                       n_jobs=None, oob_score=False, random_state=None,\n",
              "                       verbose=0, warm_start=False)"
            ]
          },
          "metadata": {
            "tags": []
          },
          "execution_count": 85
        }
      ]
    },
    {
      "cell_type": "code",
      "metadata": {
        "id": "Mt2-ZU7PDktI",
        "colab_type": "code",
        "colab": {}
      },
      "source": [
        "test_data['pred'] = pd.DataFrame(rf.predict_proba(test_data.loc[:,red_feats]),\n",
        "                                 index=test_data.index)[1]\n",
        "test_data['avg'] = test_data['red_wins'].mean()"
      ],
      "execution_count": 0,
      "outputs": []
    },
    {
      "cell_type": "code",
      "metadata": {
        "id": "v387e8ea8NJ3",
        "colab_type": "code",
        "outputId": "2eefb40d-abe2-4766-c4bd-4fc83efd3a9a",
        "colab": {
          "base_uri": "https://localhost:8080/",
          "height": 54
        }
      },
      "source": [
        "print(log_loss(test_data['red_wins'], test_data['pred']))\n",
        "print(log_loss(test_data['red_wins'], test_data['avg']))"
      ],
      "execution_count": 87,
      "outputs": [
        {
          "output_type": "stream",
          "text": [
            "0.6669647267469029\n",
            "0.6925233751942456\n"
          ],
          "name": "stdout"
        }
      ]
    },
    {
      "cell_type": "code",
      "metadata": {
        "id": "jyYlDpX4GKYU",
        "colab_type": "code",
        "outputId": "59918787-b664-42c0-fc6e-f99a05d08f5b",
        "colab": {
          "base_uri": "https://localhost:8080/",
          "height": 54
        }
      },
      "source": [
        "print(accuracy_score(test_data['red_wins'], test_data['pred'].round(0)))\n",
        "print(accuracy_score(test_data['red_wins'], test_data['avg'].round(0)))"
      ],
      "execution_count": 88,
      "outputs": [
        {
          "output_type": "stream",
          "text": [
            "0.5852674066599395\n",
            "0.5176589303733602\n"
          ],
          "name": "stdout"
        }
      ]
    },
    {
      "cell_type": "code",
      "metadata": {
        "id": "24dIFjRgHxjj",
        "colab_type": "code",
        "outputId": "de685764-1ff6-4ec8-c583-e12f68c18ac6",
        "colab": {
          "base_uri": "https://localhost:8080/",
          "height": 146
        }
      },
      "source": [
        "logr = LogisticRegression()\n",
        "logr.fit(train_data.loc[:,red_feats],train_data[target])\n",
        "test_data['pred'] = pd.DataFrame(logr.predict_proba(test_data.loc[:,red_feats]),\n",
        "                                 index=test_data.index)[1]\n",
        "test_data['avg'] = test_data['red_wins'].mean()\n",
        "\n",
        "print(log_loss(test_data['red_wins'], test_data['pred']))\n",
        "print(log_loss(test_data['red_wins'], test_data['avg']))\n",
        "print(accuracy_score(test_data['red_wins'], test_data['pred'].round(0)))\n",
        "print(accuracy_score(test_data['red_wins'], test_data['avg'].round(0)))"
      ],
      "execution_count": 89,
      "outputs": [
        {
          "output_type": "stream",
          "text": [
            "/usr/local/lib/python3.6/dist-packages/sklearn/linear_model/logistic.py:432: FutureWarning: Default solver will be changed to 'lbfgs' in 0.22. Specify a solver to silence this warning.\n",
            "  FutureWarning)\n"
          ],
          "name": "stderr"
        },
        {
          "output_type": "stream",
          "text": [
            "0.6603976323338766\n",
            "0.6925233751942456\n",
            "0.6074672048435923\n",
            "0.5176589303733602\n"
          ],
          "name": "stdout"
        }
      ]
    },
    {
      "cell_type": "code",
      "metadata": {
        "id": "ezH7dEU8IZKS",
        "colab_type": "code",
        "outputId": "3c070fc7-c9f6-4e99-813f-9b9f30919966",
        "colab": {
          "base_uri": "https://localhost:8080/",
          "height": 601
        }
      },
      "source": [
        "explainer = shap.LinearExplainer(logr, train_data.loc[:,red_feats], feature_dependence=\"independent\")\n",
        "shap_values = explainer.shap_values(test_data.loc[:,red_feats])\n",
        "shap.summary_plot(shap_values, test_data.loc[:,red_feats], feature_names=red_feats)"
      ],
      "execution_count": 91,
      "outputs": [
        {
          "output_type": "display_data",
          "data": {
            "image/png": "[encoded data removed]",
            "text/plain": [
              "<Figure size 576x684 with 2 Axes>"
            ]
          },
          "metadata": {
            "tags": []
          }
        }
      ]
    },
    {
      "cell_type": "code",
      "metadata": {
        "id": "5hq6IUvmHqyj",
        "colab_type": "code",
        "colab": {}
      },
      "source": [
        ""
      ],
      "execution_count": 0,
      "outputs": []
    },
    {
      "cell_type": "code",
      "metadata": {
        "id": "Zmgl6BZrFrwb",
        "colab_type": "code",
        "colab": {
          "base_uri": "https://localhost:8080/",
          "height": 501
        },
        "outputId": "ca88ea79-1671-41a6-8c2a-573253da09ec"
      },
      "source": [
        "df_shap_ = pd.DataFrame(shap_values,columns=red_feats)\n",
        "df_shap = df_shap_.mean().to_frame().reset_index().rename(columns={'index':'features',0:'shap_value_mean'})\n",
        "df_shap = df_shap.merge(df_shap_.median().to_frame().reset_index().rename(columns={'index':'features',0:'shap_value_median'}))\n",
        "df_shap = df_shap.merge(df_shap_.max().to_frame().reset_index().rename(columns={'index':'features',0:'shap_value_max'}))\n",
        "\n",
        "DV = 'shap_value_max'\n",
        "top_and_bot = 5\n",
        "df_shap = df_shap.sort_values(DV,ascending=False)\n",
        "sns.catplot(x='features',y=DV,kind='bar',\n",
        "            data=df_shap.head(top_and_bot).append(df_shap.tail(top_and_bot)))\n",
        "plt.xticks(rotation=90)\n",
        "plt.show()"
      ],
      "execution_count": 114,
      "outputs": [
        {
          "output_type": "display_data",
          "data": {
            "image/png": "[encoded data removed]",
            "text/plain": [
              "<Figure size 360x360 with 1 Axes>"
            ]
          },
          "metadata": {
            "tags": []
          }
        }
      ]
    }
  ]
}